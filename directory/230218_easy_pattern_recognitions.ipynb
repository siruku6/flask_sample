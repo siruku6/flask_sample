{
  "nbformat": 4,
  "nbformat_minor": 0,
  "metadata": {
    "colab": {
      "provenance": [],
      "collapsed_sections": [
        "TU0TXjfZD7Sy",
        "Tw5jwyepjTO9",
        "iG7k4SK-jXJ-",
        "g1caIzlJyX4k",
        "FXevtinVEizL"
      ],
      "authorship_tag": "ABX9TyNDnrqCLaVxL7tEoQZ+gwFa",
      "include_colab_link": true
    },
    "kernelspec": {
      "name": "python3",
      "display_name": "Python 3"
    },
    "language_info": {
      "name": "python"
    },
    "widgets": {
      "application/vnd.jupyter.widget-state+json": {
        "deec9f8511fa49b4aad668174a7d950b": {
          "model_module": "@jupyter-widgets/controls",
          "model_name": "HBoxModel",
          "model_module_version": "1.5.0",
          "state": {
            "_dom_classes": [],
            "_model_module": "@jupyter-widgets/controls",
            "_model_module_version": "1.5.0",
            "_model_name": "HBoxModel",
            "_view_count": null,
            "_view_module": "@jupyter-widgets/controls",
            "_view_module_version": "1.5.0",
            "_view_name": "HBoxView",
            "box_style": "",
            "children": [
              "IPY_MODEL_e5f83cca9ab94ee088f0b8632817469d",
              "IPY_MODEL_885a5da5e6284d9380d931961f86a795",
              "IPY_MODEL_15ed0daaf9d84d2899371e45b4ad4fde"
            ],
            "layout": "IPY_MODEL_1ec02816a5484cd5a30581abfc40bab2"
          }
        },
        "e5f83cca9ab94ee088f0b8632817469d": {
          "model_module": "@jupyter-widgets/controls",
          "model_name": "HTMLModel",
          "model_module_version": "1.5.0",
          "state": {
            "_dom_classes": [],
            "_model_module": "@jupyter-widgets/controls",
            "_model_module_version": "1.5.0",
            "_model_name": "HTMLModel",
            "_view_count": null,
            "_view_module": "@jupyter-widgets/controls",
            "_view_module_version": "1.5.0",
            "_view_name": "HTMLView",
            "description": "",
            "description_tooltip": null,
            "layout": "IPY_MODEL_5c8ed2b10f884acaa202a6af6457ede3",
            "placeholder": "​",
            "style": "IPY_MODEL_5a6099f514e54435bfd3dc04abd516fc",
            "value": "100%"
          }
        },
        "885a5da5e6284d9380d931961f86a795": {
          "model_module": "@jupyter-widgets/controls",
          "model_name": "FloatProgressModel",
          "model_module_version": "1.5.0",
          "state": {
            "_dom_classes": [],
            "_model_module": "@jupyter-widgets/controls",
            "_model_module_version": "1.5.0",
            "_model_name": "FloatProgressModel",
            "_view_count": null,
            "_view_module": "@jupyter-widgets/controls",
            "_view_module_version": "1.5.0",
            "_view_name": "ProgressView",
            "bar_style": "success",
            "description": "",
            "description_tooltip": null,
            "layout": "IPY_MODEL_3f41f0ebe46a43bca226cdde1c9e151b",
            "max": 101,
            "min": 0,
            "orientation": "horizontal",
            "style": "IPY_MODEL_962daa9b9a0440bb91fcb89912ba5f76",
            "value": 101
          }
        },
        "15ed0daaf9d84d2899371e45b4ad4fde": {
          "model_module": "@jupyter-widgets/controls",
          "model_name": "HTMLModel",
          "model_module_version": "1.5.0",
          "state": {
            "_dom_classes": [],
            "_model_module": "@jupyter-widgets/controls",
            "_model_module_version": "1.5.0",
            "_model_name": "HTMLModel",
            "_view_count": null,
            "_view_module": "@jupyter-widgets/controls",
            "_view_module_version": "1.5.0",
            "_view_name": "HTMLView",
            "description": "",
            "description_tooltip": null,
            "layout": "IPY_MODEL_4d830ba36ba04af6965675d6d1695c7d",
            "placeholder": "​",
            "style": "IPY_MODEL_f2f2e151a9f0404dad41077700411062",
            "value": " 101/101 [00:02&lt;00:00, 29.24it/s]"
          }
        },
        "1ec02816a5484cd5a30581abfc40bab2": {
          "model_module": "@jupyter-widgets/base",
          "model_name": "LayoutModel",
          "model_module_version": "1.2.0",
          "state": {
            "_model_module": "@jupyter-widgets/base",
            "_model_module_version": "1.2.0",
            "_model_name": "LayoutModel",
            "_view_count": null,
            "_view_module": "@jupyter-widgets/base",
            "_view_module_version": "1.2.0",
            "_view_name": "LayoutView",
            "align_content": null,
            "align_items": null,
            "align_self": null,
            "border": null,
            "bottom": null,
            "display": null,
            "flex": null,
            "flex_flow": null,
            "grid_area": null,
            "grid_auto_columns": null,
            "grid_auto_flow": null,
            "grid_auto_rows": null,
            "grid_column": null,
            "grid_gap": null,
            "grid_row": null,
            "grid_template_areas": null,
            "grid_template_columns": null,
            "grid_template_rows": null,
            "height": null,
            "justify_content": null,
            "justify_items": null,
            "left": null,
            "margin": null,
            "max_height": null,
            "max_width": null,
            "min_height": null,
            "min_width": null,
            "object_fit": null,
            "object_position": null,
            "order": null,
            "overflow": null,
            "overflow_x": null,
            "overflow_y": null,
            "padding": null,
            "right": null,
            "top": null,
            "visibility": null,
            "width": null
          }
        },
        "5c8ed2b10f884acaa202a6af6457ede3": {
          "model_module": "@jupyter-widgets/base",
          "model_name": "LayoutModel",
          "model_module_version": "1.2.0",
          "state": {
            "_model_module": "@jupyter-widgets/base",
            "_model_module_version": "1.2.0",
            "_model_name": "LayoutModel",
            "_view_count": null,
            "_view_module": "@jupyter-widgets/base",
            "_view_module_version": "1.2.0",
            "_view_name": "LayoutView",
            "align_content": null,
            "align_items": null,
            "align_self": null,
            "border": null,
            "bottom": null,
            "display": null,
            "flex": null,
            "flex_flow": null,
            "grid_area": null,
            "grid_auto_columns": null,
            "grid_auto_flow": null,
            "grid_auto_rows": null,
            "grid_column": null,
            "grid_gap": null,
            "grid_row": null,
            "grid_template_areas": null,
            "grid_template_columns": null,
            "grid_template_rows": null,
            "height": null,
            "justify_content": null,
            "justify_items": null,
            "left": null,
            "margin": null,
            "max_height": null,
            "max_width": null,
            "min_height": null,
            "min_width": null,
            "object_fit": null,
            "object_position": null,
            "order": null,
            "overflow": null,
            "overflow_x": null,
            "overflow_y": null,
            "padding": null,
            "right": null,
            "top": null,
            "visibility": null,
            "width": null
          }
        },
        "5a6099f514e54435bfd3dc04abd516fc": {
          "model_module": "@jupyter-widgets/controls",
          "model_name": "DescriptionStyleModel",
          "model_module_version": "1.5.0",
          "state": {
            "_model_module": "@jupyter-widgets/controls",
            "_model_module_version": "1.5.0",
            "_model_name": "DescriptionStyleModel",
            "_view_count": null,
            "_view_module": "@jupyter-widgets/base",
            "_view_module_version": "1.2.0",
            "_view_name": "StyleView",
            "description_width": ""
          }
        },
        "3f41f0ebe46a43bca226cdde1c9e151b": {
          "model_module": "@jupyter-widgets/base",
          "model_name": "LayoutModel",
          "model_module_version": "1.2.0",
          "state": {
            "_model_module": "@jupyter-widgets/base",
            "_model_module_version": "1.2.0",
            "_model_name": "LayoutModel",
            "_view_count": null,
            "_view_module": "@jupyter-widgets/base",
            "_view_module_version": "1.2.0",
            "_view_name": "LayoutView",
            "align_content": null,
            "align_items": null,
            "align_self": null,
            "border": null,
            "bottom": null,
            "display": null,
            "flex": null,
            "flex_flow": null,
            "grid_area": null,
            "grid_auto_columns": null,
            "grid_auto_flow": null,
            "grid_auto_rows": null,
            "grid_column": null,
            "grid_gap": null,
            "grid_row": null,
            "grid_template_areas": null,
            "grid_template_columns": null,
            "grid_template_rows": null,
            "height": null,
            "justify_content": null,
            "justify_items": null,
            "left": null,
            "margin": null,
            "max_height": null,
            "max_width": null,
            "min_height": null,
            "min_width": null,
            "object_fit": null,
            "object_position": null,
            "order": null,
            "overflow": null,
            "overflow_x": null,
            "overflow_y": null,
            "padding": null,
            "right": null,
            "top": null,
            "visibility": null,
            "width": null
          }
        },
        "962daa9b9a0440bb91fcb89912ba5f76": {
          "model_module": "@jupyter-widgets/controls",
          "model_name": "ProgressStyleModel",
          "model_module_version": "1.5.0",
          "state": {
            "_model_module": "@jupyter-widgets/controls",
            "_model_module_version": "1.5.0",
            "_model_name": "ProgressStyleModel",
            "_view_count": null,
            "_view_module": "@jupyter-widgets/base",
            "_view_module_version": "1.2.0",
            "_view_name": "StyleView",
            "bar_color": null,
            "description_width": ""
          }
        },
        "4d830ba36ba04af6965675d6d1695c7d": {
          "model_module": "@jupyter-widgets/base",
          "model_name": "LayoutModel",
          "model_module_version": "1.2.0",
          "state": {
            "_model_module": "@jupyter-widgets/base",
            "_model_module_version": "1.2.0",
            "_model_name": "LayoutModel",
            "_view_count": null,
            "_view_module": "@jupyter-widgets/base",
            "_view_module_version": "1.2.0",
            "_view_name": "LayoutView",
            "align_content": null,
            "align_items": null,
            "align_self": null,
            "border": null,
            "bottom": null,
            "display": null,
            "flex": null,
            "flex_flow": null,
            "grid_area": null,
            "grid_auto_columns": null,
            "grid_auto_flow": null,
            "grid_auto_rows": null,
            "grid_column": null,
            "grid_gap": null,
            "grid_row": null,
            "grid_template_areas": null,
            "grid_template_columns": null,
            "grid_template_rows": null,
            "height": null,
            "justify_content": null,
            "justify_items": null,
            "left": null,
            "margin": null,
            "max_height": null,
            "max_width": null,
            "min_height": null,
            "min_width": null,
            "object_fit": null,
            "object_position": null,
            "order": null,
            "overflow": null,
            "overflow_x": null,
            "overflow_y": null,
            "padding": null,
            "right": null,
            "top": null,
            "visibility": null,
            "width": null
          }
        },
        "f2f2e151a9f0404dad41077700411062": {
          "model_module": "@jupyter-widgets/controls",
          "model_name": "DescriptionStyleModel",
          "model_module_version": "1.5.0",
          "state": {
            "_model_module": "@jupyter-widgets/controls",
            "_model_module_version": "1.5.0",
            "_model_name": "DescriptionStyleModel",
            "_view_count": null,
            "_view_module": "@jupyter-widgets/base",
            "_view_module_version": "1.2.0",
            "_view_name": "StyleView",
            "description_width": ""
          }
        }
      }
    }
  },
  "cells": [
    {
      "cell_type": "markdown",
      "metadata": {
        "id": "view-in-github",
        "colab_type": "text"
      },
      "source": [
        "<a href=\"https://colab.research.google.com/github/siruku6/flask_sample/blob/master/directory/230218_easy_pattern_recognitions.ipynb\" target=\"_parent\"><img src=\"https://colab.research.google.com/assets/colab-badge.svg\" alt=\"Open In Colab\"/></a>"
      ]
    },
    {
      "cell_type": "code",
      "source": [
        "import math\n",
        "\n",
        "import numpy as np\n",
        "import pandas as pd\n",
        "import matplotlib.pyplot as plt\n",
        "from tqdm.notebook import tqdm"
      ],
      "metadata": {
        "id": "KJBhLM-cDVTP"
      },
      "execution_count": 1,
      "outputs": []
    },
    {
      "cell_type": "markdown",
      "source": [
        "# 第2章 事前確率と事後確率"
      ],
      "metadata": {
        "id": "NGgWvplljiOF"
      }
    },
    {
      "cell_type": "markdown",
      "source": [
        "## p.25"
      ],
      "metadata": {
        "id": "jXuDwHV7DQ5o"
      }
    },
    {
      "cell_type": "code",
      "source": [
        "# -------------- 前提条件 --------------\n",
        "# それぞれのコインの含有率\n",
        "pi_s = np.array([0.1, 0.4, 0.5])\n",
        "\n",
        "# それぞれのコインが表になる確率\n",
        "front_probs = np.array([0.8, 0.6, 0.3])\n",
        "\n",
        "# それぞれのコインが裏になる確率\n",
        "back_probs = 1 - front_probs\n",
        "\n",
        "# -------------- Bayesian update --------------\n",
        "def bayesian_update(front_or_back_probs, prior_probs) -> np.ndarray:\n",
        "    \"\"\"\n",
        "    ベイズ更新を1回だけ実行する関数\n",
        "    \"\"\"\n",
        "    posterior_probs = front_or_back_probs * prior_probs / sum(front_or_back_probs * prior_probs)\n",
        "    return posterior_probs\n"
      ],
      "metadata": {
        "id": "l0ur0vwN4nl7"
      },
      "execution_count": null,
      "outputs": []
    },
    {
      "cell_type": "code",
      "source": [
        "# 1回だけベイズ更新すると\n",
        "posterior_probs = bayesian_update(front_probs, pi_s)\n",
        "posterior_probs"
      ],
      "metadata": {
        "colab": {
          "base_uri": "https://localhost:8080/"
        },
        "id": "o3Zt6Qns_XXi",
        "outputId": "0f9cfd56-a2e1-4f0f-a3f3-00772881e8b5"
      },
      "execution_count": null,
      "outputs": [
        {
          "output_type": "execute_result",
          "data": {
            "text/plain": [
              "array([0.17021277, 0.5106383 , 0.31914894])"
            ]
          },
          "metadata": {},
          "execution_count": 3
        }
      ]
    },
    {
      "cell_type": "markdown",
      "source": [
        "## p.33 10回ベイズ更新する"
      ],
      "metadata": {
        "id": "rowpixw3Damz"
      }
    },
    {
      "cell_type": "code",
      "source": [
        "posterior_probs = bayesian_update(front_probs, pi_s)\n",
        "posterior_probs = bayesian_update(front_probs, posterior_probs)\n",
        "posterior_probs = bayesian_update(front_probs, posterior_probs)\n",
        "posterior_probs = bayesian_update(front_probs, posterior_probs)\n",
        "posterior_probs = bayesian_update(back_probs, posterior_probs)\n",
        "posterior_probs = bayesian_update(front_probs, posterior_probs)\n",
        "posterior_probs = bayesian_update(front_probs, posterior_probs)\n",
        "posterior_probs = bayesian_update(back_probs, posterior_probs)\n",
        "posterior_probs = bayesian_update(front_probs, posterior_probs)\n",
        "posterior_probs = bayesian_update(back_probs, posterior_probs)\n",
        "posterior_probs"
      ],
      "metadata": {
        "colab": {
          "base_uri": "https://localhost:8080/"
        },
        "id": "sTqp7l0X7Jt3",
        "outputId": "19adeb5c-a6b2-45a2-ecf4-e1d9b4b37485"
      },
      "execution_count": null,
      "outputs": [
        {
          "output_type": "execute_result",
          "data": {
            "text/plain": [
              "array([0.18198217, 0.777334  , 0.04068383])"
            ]
          },
          "metadata": {},
          "execution_count": 4
        }
      ]
    },
    {
      "cell_type": "markdown",
      "source": [
        "## p.34 100回ベイズ更新する"
      ],
      "metadata": {
        "id": "wwG3gmfoDoY4"
      }
    },
    {
      "cell_type": "code",
      "source": [
        "series_coin_toss = [\"front\"] * 88 + [\"back\"] * 12\n",
        "# series_coin_toss = [\"front\"] * 7 + [\"back\"] * 3\n",
        "\n",
        "\n",
        "prior_probs = pi_s\n",
        "\n",
        "def continuous_bayesian_update(\n",
        "    prior_probs: np.ndarray, series_coin_toss: list\n",
        ") -> np.ndarray:\n",
        "\n",
        "    # NOTE: 一切の試行をする前なら、試行から得られる情報が何もないため、\n",
        "    #     事前確率がそのまま事後確率になる\n",
        "    posterior_probs = prior_probs\n",
        "\n",
        "    for cointoss_result in series_coin_toss:\n",
        "        if cointoss_result == \"front\":\n",
        "            probs = front_probs\n",
        "        elif cointoss_result == \"back\":\n",
        "            probs = back_probs\n",
        "\n",
        "        posterior_probs = bayesian_update(probs, prior_probs)\n",
        "        prior_probs = posterior_probs\n",
        "\n",
        "    return posterior_probs\n",
        "\n",
        "\n",
        "continuous_bayesian_update(prior_probs, series_coin_toss)"
      ],
      "metadata": {
        "colab": {
          "base_uri": "https://localhost:8080/"
        },
        "id": "0lWtkV_Pyahu",
        "outputId": "32c9cb36-8847-4b2c-f130-eb2e0b010627"
      },
      "execution_count": null,
      "outputs": [
        {
          "output_type": "execute_result",
          "data": {
            "text/plain": [
              "array([9.99999834e-01, 1.65886501e-07, 5.52761803e-31])"
            ]
          },
          "metadata": {},
          "execution_count": 5
        }
      ]
    },
    {
      "cell_type": "markdown",
      "source": [
        "# 第3章 ベイズ決定則"
      ],
      "metadata": {
        "id": "TU0TXjfZD7Sy"
      }
    },
    {
      "cell_type": "markdown",
      "source": [
        "## p.42"
      ],
      "metadata": {
        "id": "MYouDQKgC9RL"
      }
    },
    {
      "cell_type": "code",
      "source": [
        "available_front_counts = np.arange(11)\n",
        "prior_probs = pi_s\n",
        "\n",
        "posterior_probs_dict = {}\n",
        "\n",
        "for front_count in available_front_counts:\n",
        "    back_count = 10 - front_count\n",
        "    series_coin_toss = [\"front\"] * front_count + [\"back\"] * back_count\n",
        "\n",
        "    posterior_probs = continuous_bayesian_update(prior_probs, series_coin_toss)\n",
        "    posterior_probs_dict[front_count] = posterior_probs\n",
        "\n",
        "posterior_probs_dict"
      ],
      "metadata": {
        "colab": {
          "base_uri": "https://localhost:8080/"
        },
        "id": "946dMkFBzm4l",
        "outputId": "3127a488-a58e-4069-8877-aa330333af8f"
      },
      "execution_count": null,
      "outputs": [
        {
          "output_type": "execute_result",
          "data": {
            "text/plain": [
              "{0: array([7.22872052e-07, 2.96088393e-03, 9.97038393e-01]),\n",
              " 1: array([6.69719146e-06, 1.02868861e-02, 9.89706417e-01]),\n",
              " 2: array([6.09365998e-05, 3.50994815e-02, 9.64839582e-01]),\n",
              " 3: array([5.22617226e-04, 1.12885321e-01, 8.86592062e-01]),\n",
              " 4: array([0.0037913 , 0.30709491, 0.68911379]),\n",
              " 5: array([0.01966587, 0.59735088, 0.38298325]),\n",
              " 6: array([0.06907423, 0.78679862, 0.14412716]),\n",
              " 7: array([0.18198217, 0.777334  , 0.04068383]),\n",
              " 8: array([0.3808422 , 0.61003556, 0.00912224]),\n",
              " 9: array([0.62373543, 0.37466383, 0.00160074]),\n",
              " 10: array([8.15974145e-01, 1.83801488e-01, 2.24367051e-04])}"
            ]
          },
          "metadata": {},
          "execution_count": 6
        }
      ]
    },
    {
      "cell_type": "code",
      "source": [
        "result_10 = pd.DataFrame.from_dict(posterior_probs_dict, orient=\"index\")\n",
        "plt.plot(result_10[0], label=\"coin 1\")\n",
        "plt.plot(result_10[1], label=\"coin 2\")\n",
        "plt.plot(result_10[2], label=\"coin 3\")\n",
        "plt.xlabel(\"the number of front side appeared\")\n",
        "plt.ylabel(\"posterior probability\")\n",
        "plt.legend()\n",
        "plt.show()"
      ],
      "metadata": {
        "colab": {
          "base_uri": "https://localhost:8080/",
          "height": 279
        },
        "id": "zOlgoSxp-byj",
        "outputId": "62ebb789-e37a-4122-9d20-e4b6da3dabac"
      },
      "execution_count": null,
      "outputs": [
        {
          "output_type": "display_data",
          "data": {
            "text/plain": [
              "<Figure size 432x288 with 1 Axes>"
            ],
            "image/png": "[encoded data removed]"
          },
          "metadata": {
            "needs_background": "light"
          }
        }
      ]
    },
    {
      "cell_type": "markdown",
      "source": [
        "## p.44"
      ],
      "metadata": {
        "id": "_gzPrDQ3DDWJ"
      }
    },
    {
      "cell_type": "code",
      "source": [
        "available_front_counts = np.arange(101)\n",
        "prior_probs = pi_s\n",
        "\n",
        "posterior_probs_dict = {}\n",
        "\n",
        "for front_count in available_front_counts:\n",
        "    back_count = 100 - front_count\n",
        "    series_coin_toss = [\"front\"] * front_count + [\"back\"] * back_count\n",
        "\n",
        "    posterior_probs = continuous_bayesian_update(prior_probs, series_coin_toss)\n",
        "    posterior_probs_dict[front_count] = posterior_probs\n",
        "\n",
        "result_100 = pd.DataFrame.from_dict(posterior_probs_dict, orient=\"index\")\n",
        "\n",
        "plt.plot(result_100[0], label=\"coin 1\")\n",
        "plt.plot(result_100[1], label=\"coin 2\")\n",
        "plt.plot(result_100[2], label=\"coin 3\")\n",
        "plt.xlabel(\"the number of front side appeared\")\n",
        "plt.ylabel(\"posterior probability\")\n",
        "plt.legend()\n",
        "plt.show()"
      ],
      "metadata": {
        "colab": {
          "base_uri": "https://localhost:8080/",
          "height": 279
        },
        "id": "_ZwLGSlLCkQv",
        "outputId": "d8117c38-0edb-432b-8ead-2281f9f3e16b"
      },
      "execution_count": null,
      "outputs": [
        {
          "output_type": "display_data",
          "data": {
            "text/plain": [
              "<Figure size 432x288 with 1 Axes>"
            ],
            "image/png": "[encoded data removed]"
          },
          "metadata": {
            "needs_background": "light"
          }
        }
      ]
    },
    {
      "cell_type": "code",
      "source": [
        "probability_of_error = 1 - result_10.max(axis=1)"
      ],
      "metadata": {
        "id": "qnIKuDCEROmL"
      },
      "execution_count": null,
      "outputs": []
    },
    {
      "cell_type": "code",
      "source": [
        "def number_of_combinations(n: int, r: int) -> int:\n",
        "    \"\"\"\n",
        "    n: int ... total_num\n",
        "    r: int ... subset_num\n",
        "    \"\"\"\n",
        "    return math.factorial(n) / (math.factorial(r) * math.factorial(n - r))\n",
        "\n",
        "\n",
        "def bernoulli_probability(n: int, r: int, theta: float):\n",
        "    return number_of_combinations(n, r) * ((theta ** r) * ((1 - theta) ** (n - r))) \n",
        "\n",
        "number_of_combinations(5, 4)\n",
        "bernoulli_probability(10, 7, 0.5)"
      ],
      "metadata": {
        "colab": {
          "base_uri": "https://localhost:8080/"
        },
        "id": "20iIRg2UXrnG",
        "outputId": "89633acd-e463-4df9-aeba-fa2c64a8c401"
      },
      "execution_count": null,
      "outputs": [
        {
          "output_type": "execute_result",
          "data": {
            "text/plain": [
              "0.1171875"
            ]
          },
          "metadata": {},
          "execution_count": 10
        }
      ]
    },
    {
      "cell_type": "code",
      "source": [
        "def probabilities_of_front(n: int, r: int, prior_probs: np.ndarray, front_probs: np.ndarray) -> np.ndarray:\n",
        "    \"\"\"\n",
        "    n: ベルヌーイ試行の試行回数\n",
        "    r: 試行中の成功回数\n",
        "    prior_probs: 事前確率 - 各コインの含有率（出現確率）\n",
        "    front_probs: 各コインの表が出る確率\n",
        "        example) np.array([0.3, 0.5, 0.2])\n",
        "\n",
        "    Returns\n",
        "    ---------\n",
        "    コインの表がr回出る確率\n",
        "    \"\"\"\n",
        "    assert prior_probs.shape == front_probs.shape\n",
        "\n",
        "    prior_probs * bernoulli_probability(n, r, front_probs)\n",
        "    return sum(prior_probs * bernoulli_probability(n, r, front_probs))\n",
        "\n",
        "\n",
        "def bayes_error(n, pi_s, front_probs) -> pd.DataFrame:\n",
        "    available_front_counts = np.arange(n + 1)\n",
        "    prior_probs = pi_s\n",
        "\n",
        "    posterior_probs_dict = {}\n",
        "\n",
        "    e_b_r_s = []\n",
        "    for front_count in available_front_counts:\n",
        "        back_count = n - front_count\n",
        "        series_coin_toss = [\"front\"] * front_count + [\"back\"] * back_count\n",
        "\n",
        "        posterior_probs = continuous_bayesian_update(prior_probs, series_coin_toss)\n",
        "        probability_of_error = 1 - posterior_probs.max()\n",
        "        e_b_r = probability_of_error * probabilities_of_front(n, front_count, pi_s, front_probs)\n",
        "        e_b_r_s.append(e_b_r)\n",
        "\n",
        "    return sum(e_b_r_s)\n",
        "\n",
        "\n",
        "# probabilities_of_front(10, 10, pi_s, front_probs)\n",
        "bayes_error(10, pi_s, front_probs)"
      ],
      "metadata": {
        "colab": {
          "base_uri": "https://localhost:8080/"
        },
        "id": "6P1jD2tZZ2wo",
        "outputId": "32fac007-6f1f-4d8d-9a70-8b47bf95387b"
      },
      "execution_count": null,
      "outputs": [
        {
          "output_type": "execute_result",
          "data": {
            "text/plain": [
              "0.22259161013999995"
            ]
          },
          "metadata": {},
          "execution_count": 11
        }
      ]
    },
    {
      "cell_type": "code",
      "source": [
        "bayes_error(100, pi_s, front_probs)"
      ],
      "metadata": {
        "colab": {
          "base_uri": "https://localhost:8080/"
        },
        "id": "61QkjfA5g7ha",
        "outputId": "8cb4eaf2-67ba-4d29-f222-355643dc0b2f"
      },
      "execution_count": null,
      "outputs": [
        {
          "output_type": "execute_result",
          "data": {
            "text/plain": [
              "0.006150932942506913"
            ]
          },
          "metadata": {},
          "execution_count": 12
        }
      ]
    },
    {
      "cell_type": "code",
      "source": [
        "zero_to_100 = np.arange(0, 101)\n",
        "\n",
        "bayes_errors = []\n",
        "for num_of_trial in tqdm(zero_to_100):\n",
        "    bayes_errors.append(bayes_error(num_of_trial, pi_s, front_probs))\n",
        "\n",
        "plt.plot(bayes_errors, label=\"rate of bayes error\")\n",
        "plt.xlabel(\"number of trial\")\n",
        "plt.ylabel(\"probability\")\n",
        "plt.show()\n"
      ],
      "metadata": {
        "colab": {
          "base_uri": "https://localhost:8080/",
          "height": 311,
          "referenced_widgets": [
            "deec9f8511fa49b4aad668174a7d950b",
            "e5f83cca9ab94ee088f0b8632817469d",
            "885a5da5e6284d9380d931961f86a795",
            "15ed0daaf9d84d2899371e45b4ad4fde",
            "1ec02816a5484cd5a30581abfc40bab2",
            "5c8ed2b10f884acaa202a6af6457ede3",
            "5a6099f514e54435bfd3dc04abd516fc",
            "3f41f0ebe46a43bca226cdde1c9e151b",
            "962daa9b9a0440bb91fcb89912ba5f76",
            "4d830ba36ba04af6965675d6d1695c7d",
            "f2f2e151a9f0404dad41077700411062"
          ]
        },
        "id": "vN0FvmIohNeI",
        "outputId": "fc397128-3f1d-439e-d5b2-60da3c3b417c"
      },
      "execution_count": null,
      "outputs": [
        {
          "output_type": "display_data",
          "data": {
            "text/plain": [
              "  0%|          | 0/101 [00:00<?, ?it/s]"
            ],
            "application/vnd.jupyter.widget-view+json": {
              "version_major": 2,
              "version_minor": 0,
              "model_id": "deec9f8511fa49b4aad668174a7d950b"
            }
          },
          "metadata": {}
        },
        {
          "output_type": "display_data",
          "data": {
            "text/plain": [
              "<Figure size 432x288 with 1 Axes>"
            ],
            "image/png": "[encoded data removed]"
          },
          "metadata": {
            "needs_background": "light"
          }
        }
      ]
    },
    {
      "cell_type": "markdown",
      "source": [
        "# 第4章 パラメータ推定"
      ],
      "metadata": {
        "id": "Tw5jwyepjTO9"
      }
    },
    {
      "cell_type": "markdown",
      "source": [
        "## p.50 最尤推定 (Maximum Likelihood Estimation)"
      ],
      "metadata": {
        "id": "iG7k4SK-jXJ-"
      }
    },
    {
      "cell_type": "code",
      "source": [
        "# 試行回数\n",
        "n = 10\n",
        "\n",
        "\n",
        "def calc_likelihoods(n: int, r: int):\n",
        "    \"\"\"\n",
        "    n: 試行回数\n",
        "    r: 表が出た回数\n",
        "    \"\"\"\n",
        "    available_thetas = np.arange(0, 1.01, step=0.01)\n",
        "\n",
        "    likelihoods = {}\n",
        "    for theta in available_thetas:\n",
        "        likelihood = (theta ** r) * ((1 - theta) ** (n - r))\n",
        "        likelihoods[theta] = likelihood\n",
        "\n",
        "    return pd.DataFrame.from_dict(likelihoods, orient=\"index\")\n",
        "\n",
        "\n",
        "likelihoods_3 = calc_likelihoods(n, 3)\n",
        "likelihoods_8 = calc_likelihoods(n, 8)\n",
        "\n",
        "plt.plot(likelihoods_3, label=\"front of the coin appeared 3 times\")\n",
        "plt.plot(likelihoods_8, label=\"front of the coin appeared 8 times\")\n",
        "plt.xlabel(\"value of the parameter 'theta'\")\n",
        "plt.ylabel(\"likelihood\")\n",
        "plt.legend()\n",
        "plt.show()"
      ],
      "metadata": {
        "colab": {
          "base_uri": "https://localhost:8080/",
          "height": 282
        },
        "id": "EbNwFxSHjZRr",
        "outputId": "55bbbf70-f711-402f-9d6d-a7e40c71c9d4"
      },
      "execution_count": null,
      "outputs": [
        {
          "output_type": "display_data",
          "data": {
            "text/plain": [
              "<Figure size 432x288 with 1 Axes>"
            ],
            "image/png": "[encoded data removed]"
          },
          "metadata": {
            "needs_background": "light"
          }
        }
      ]
    },
    {
      "cell_type": "markdown",
      "source": [
        "## p.57 Beta分布"
      ],
      "metadata": {
        "id": "g1caIzlJyX4k"
      }
    },
    {
      "cell_type": "code",
      "source": [
        "def number_of_combinations(n: int, r: int) -> int:\n",
        "    \"\"\"\n",
        "    n: int ... total_num\n",
        "    r: int ... subset_num\n",
        "    \"\"\"\n",
        "    return math.factorial(n) / (math.factorial(r) * math.factorial(n - r))\n",
        "\n",
        "\n",
        "def beta_distribution(theta: float, alpha: int, beta: int):\n",
        "    \"\"\"\n",
        "    theta: 求めたいパラメータ値(たとえばコインが表になる確率)\n",
        "    n = alpha - 1: 表が出た回数\n",
        "    n - r = beta - 1: 裏が出た回数\n",
        "    n = alpha + beta - 2: 総試行回数\n",
        "    \"\"\"\n",
        "    n = alpha + beta - 2\n",
        "    r = alpha - 1\n",
        "\n",
        "    combination = number_of_combinations(n, r)\n",
        "    binomial_dist = (theta ** r) * ((1 - theta) ** (n - r)) * combination\n",
        "    beta_dist = (n + 1) * binomial_dist\n",
        "    return beta_dist\n"
      ],
      "metadata": {
        "id": "OHj04aseyXK6"
      },
      "execution_count": null,
      "outputs": []
    },
    {
      "cell_type": "code",
      "source": [
        "# 試行回数\n",
        "# n = 10\n",
        "# r = [2, 5, 8]\n",
        "available_thetas = np.arange(0, 1.01, step=0.01)\n",
        "\n",
        "beta_flat = beta_distribution(available_thetas, 1, 1)\n",
        "beta_2 = beta_distribution(available_thetas, 3, 9)\n",
        "beta_5 = beta_distribution(available_thetas, 6, 6)\n",
        "beta_8 = beta_distribution(available_thetas, 9, 3)\n",
        "beta_16 = beta_distribution(available_thetas, 16, 16)\n",
        "\n",
        "plt.plot(beta_flat, label=\"no coin was tossed\")\n",
        "plt.plot(beta_2, label=\"front of the coin appeared 2 times of 10\")\n",
        "plt.plot(beta_5, label=\"front of the coin appeared 5 times of 10\")\n",
        "plt.plot(beta_8, label=\"front of the coin appeared 8 times of 10\")\n",
        "plt.plot(beta_16, label=\"front of the coin appeared 16 times of 32\")\n",
        "plt.xlabel(\"value of the parameter 'theta' * 100\")\n",
        "plt.ylabel(\"Probability\")\n",
        "plt.legend()\n",
        "plt.show()"
      ],
      "metadata": {
        "colab": {
          "base_uri": "https://localhost:8080/",
          "height": 279
        },
        "id": "7hagFMRQhzgI",
        "outputId": "29ba2c31-ec8a-4522-d86b-893be93bea2f"
      },
      "execution_count": null,
      "outputs": [
        {
          "output_type": "display_data",
          "data": {
            "text/plain": [
              "<Figure size 432x288 with 1 Axes>"
            ],
            "image/png": "[encoded data removed]"
          },
          "metadata": {
            "needs_background": "light"
          }
        }
      ]
    },
    {
      "cell_type": "markdown",
      "source": [
        "## p.61 ベイズ推定の実験\n",
        "\n",
        "$\\textbf{x}^{(10)} = HHHHTHHTHT$\n",
        "\n",
        "$p(\\theta|\\textbf{x}^{(0)}) = Be(1, 1)$  \n",
        "$p(\\theta|\\textbf{x}^{(1)}) = Be(2, 1)$  \n",
        "$p(\\theta|\\textbf{x}^{(2)}) = Be(3, 1)$  \n",
        "$p(\\theta|\\textbf{x}^{(3)}) = Be(4, 1)$  \n",
        "...  \n",
        "$p(\\theta|\\textbf{x}^{(8)}) = Be(7, 3)$  \n",
        "$p(\\theta|\\textbf{x}^{(9)}) = Be(8, 3)$  \n",
        "$p(\\theta|\\textbf{x}^{(10)}) = Be(8, 4)$\n",
        "\n",
        "\n",
        "これらを描画する"
      ],
      "metadata": {
        "id": "m9t5MiNKf95n"
      }
    },
    {
      "cell_type": "code",
      "source": [
        "available_thetas = np.arange(0, 1.01, step=0.01)\n",
        "\n",
        "result = beta_distribution(available_thetas, 1, 1)\n",
        "plt.plot(result, label=\"no coin was tossed\")\n",
        "plt.xlabel(\"value of the parameter 'theta' * 100\")\n",
        "plt.ylabel(\"Probability\")\n",
        "plt.legend()\n",
        "plt.show()"
      ],
      "metadata": {
        "colab": {
          "base_uri": "https://localhost:8080/",
          "height": 279
        },
        "id": "yDYgsseogAHT",
        "outputId": "5be63d69-bf39-4623-bc69-e7733290ffd0"
      },
      "execution_count": null,
      "outputs": [
        {
          "output_type": "display_data",
          "data": {
            "text/plain": [
              "<Figure size 432x288 with 1 Axes>"
            ],
            "image/png": "[encoded data removed]"
          },
          "metadata": {
            "needs_background": "light"
          }
        }
      ]
    },
    {
      "cell_type": "code",
      "source": [
        "result = beta_distribution(available_thetas, 2, 1)\n",
        "plt.plot(result, label=\"front is appeared once\")\n",
        "plt.xlabel(\"value of the parameter 'theta' * 100\")\n",
        "plt.ylabel(\"Probability\")\n",
        "plt.legend()\n",
        "plt.show()"
      ],
      "metadata": {
        "colab": {
          "base_uri": "https://localhost:8080/",
          "height": 279
        },
        "id": "b1dqnm3BiDWe",
        "outputId": "8bee184c-e3ba-46d4-b7c7-63bb0267cd7e"
      },
      "execution_count": null,
      "outputs": [
        {
          "output_type": "display_data",
          "data": {
            "text/plain": [
              "<Figure size 432x288 with 1 Axes>"
            ],
            "image/png": "[encoded data removed]"
          },
          "metadata": {
            "needs_background": "light"
          }
        }
      ]
    },
    {
      "cell_type": "code",
      "source": [
        "result = beta_distribution(available_thetas, 3, 1)\n",
        "plt.plot(result, label=\"front is appeared twice\")\n",
        "plt.xlabel(\"value of the parameter 'theta' * 100\")\n",
        "plt.ylabel(\"Probability\")\n",
        "plt.legend()\n",
        "plt.show()"
      ],
      "metadata": {
        "colab": {
          "base_uri": "https://localhost:8080/",
          "height": 279
        },
        "id": "iBOl2g0ziGgh",
        "outputId": "4ed32b33-dc49-485b-c432-9051d076a1c7"
      },
      "execution_count": null,
      "outputs": [
        {
          "output_type": "display_data",
          "data": {
            "text/plain": [
              "<Figure size 432x288 with 1 Axes>"
            ],
            "image/png": "[encoded data removed]"
          },
          "metadata": {
            "needs_background": "light"
          }
        }
      ]
    },
    {
      "cell_type": "code",
      "source": [
        "result = beta_distribution(available_thetas, 7, 3)\n",
        "plt.plot(result, label=\"front is appeared 6/8\")\n",
        "plt.xlabel(\"value of the parameter 'theta' * 100\")\n",
        "plt.ylabel(\"Probability\")\n",
        "plt.legend()\n",
        "plt.show()"
      ],
      "metadata": {
        "colab": {
          "base_uri": "https://localhost:8080/",
          "height": 279
        },
        "id": "6Txyz9BeiJ4P",
        "outputId": "d9431437-3bc4-4ad8-c069-d0db3f57300a"
      },
      "execution_count": null,
      "outputs": [
        {
          "output_type": "display_data",
          "data": {
            "text/plain": [
              "<Figure size 432x288 with 1 Axes>"
            ],
            "image/png": "[encoded data removed]"
          },
          "metadata": {
            "needs_background": "light"
          }
        }
      ]
    },
    {
      "cell_type": "code",
      "source": [
        "result = beta_distribution(available_thetas, 8, 3)\n",
        "plt.plot(result, label=\"front is appeared 7/9\")\n",
        "plt.xlabel(\"value of the parameter 'theta' * 100\")\n",
        "plt.ylabel(\"Probability\")\n",
        "plt.legend()\n",
        "plt.show()"
      ],
      "metadata": {
        "colab": {
          "base_uri": "https://localhost:8080/",
          "height": 279
        },
        "id": "W38teFsFiMq4",
        "outputId": "0eb05722-990d-43c4-e8ca-16a98f4a676c"
      },
      "execution_count": null,
      "outputs": [
        {
          "output_type": "display_data",
          "data": {
            "text/plain": [
              "<Figure size 432x288 with 1 Axes>"
            ],
            "image/png": "[encoded data removed]"
          },
          "metadata": {
            "needs_background": "light"
          }
        }
      ]
    },
    {
      "cell_type": "code",
      "source": [
        "result = beta_distribution(available_thetas, 8, 4)\n",
        "plt.plot(result, label=\"front is appeared 7/10\")\n",
        "plt.xlabel(\"value of the parameter 'theta' * 100\")\n",
        "plt.ylabel(\"Probability\")\n",
        "plt.legend()\n",
        "plt.show()"
      ],
      "metadata": {
        "colab": {
          "base_uri": "https://localhost:8080/",
          "height": 279
        },
        "id": "tZPgu4IjiOaj",
        "outputId": "f1e61b5b-1f02-43d4-805f-4fe7c342eed6"
      },
      "execution_count": null,
      "outputs": [
        {
          "output_type": "display_data",
          "data": {
            "text/plain": [
              "<Figure size 432x288 with 1 Axes>"
            ],
            "image/png": "[encoded data removed]"
          },
          "metadata": {
            "needs_background": "light"
          }
        }
      ]
    },
    {
      "cell_type": "markdown",
      "source": [
        "ベイズ推定を行うときに事前分布を一様関数と仮定する場合は、  \n",
        "単にBeta分布を用いるだけで良いことがわかる。"
      ],
      "metadata": {
        "id": "HbyhEECaku52"
      }
    },
    {
      "cell_type": "markdown",
      "source": [
        "## p.63 nを100や1000にする\n",
        "\n"
      ],
      "metadata": {
        "id": "x1ZnmZTLiVkH"
      }
    },
    {
      "cell_type": "code",
      "source": [
        "beta_10 = beta_distribution(available_thetas, 8, 4)\n",
        "beta_100 = beta_distribution(available_thetas, 89, 13)\n",
        "beta_1000 = beta_distribution(available_thetas, 806, 196)\n",
        "\n",
        "plt.plot(beta_10, label=\"front of the coin appeared 7/10\")\n",
        "plt.plot(beta_100, label=\"front of the coin appeared 88/100\")\n",
        "plt.plot(beta_1000, label=\"front of the coin appeared 805/1000\")\n",
        "\n",
        "plt.xlabel(\"value of the parameter 'theta' * 100\")\n",
        "plt.ylabel(\"Probability\")\n",
        "plt.legend()\n",
        "plt.show()"
      ],
      "metadata": {
        "colab": {
          "base_uri": "https://localhost:8080/",
          "height": 279
        },
        "id": "pFOlM_0Liamd",
        "outputId": "1526976a-ac17-4031-c56c-9d0eec5c02c1"
      },
      "execution_count": null,
      "outputs": [
        {
          "output_type": "display_data",
          "data": {
            "text/plain": [
              "<Figure size 432x288 with 1 Axes>"
            ],
            "image/png": "[encoded data removed]"
          },
          "metadata": {
            "needs_background": "light"
          }
        }
      ]
    },
    {
      "cell_type": "markdown",
      "source": [
        "## p.64 事前分布の効果"
      ],
      "metadata": {
        "id": "7fwWsZ-glBcm"
      }
    },
    {
      "cell_type": "code",
      "source": [
        "prior_distribution = beta_distribution(available_thetas, 3, 9)\n",
        "\n",
        "beta_10 = beta_distribution(available_thetas, 8 + 3, 4 + 9)\n",
        "beta_100 = beta_distribution(available_thetas, 89 + 3, 13 + 9)\n",
        "beta_1000 = beta_distribution(available_thetas, 806 + 3, 196 + 9)\n",
        "\n",
        "plt.plot(prior_distribution, label=\"front of the coin appeared 3/10\")\n",
        "plt.plot(beta_10, label=\"front of the coin appeared 7/10\")\n",
        "plt.plot(beta_100, label=\"front of the coin appeared 88/100\")\n",
        "plt.plot(beta_1000, label=\"front of the coin appeared 805/1000\")\n",
        "\n",
        "plt.xlabel(\"value of the parameter 'theta' * 100\")\n",
        "plt.ylabel(\"Probability\")\n",
        "plt.legend()\n",
        "plt.show()"
      ],
      "metadata": {
        "colab": {
          "base_uri": "https://localhost:8080/",
          "height": 279
        },
        "id": "3qaeSDtKlnFh",
        "outputId": "1e43814b-5269-4beb-ff2f-fb32d47a8167"
      },
      "execution_count": null,
      "outputs": [
        {
          "output_type": "display_data",
          "data": {
            "text/plain": [
              "<Figure size 432x288 with 1 Axes>"
            ],
            "image/png": "[encoded data removed]"
          },
          "metadata": {
            "needs_background": "light"
          }
        }
      ]
    },
    {
      "cell_type": "code",
      "source": [
        "prior_distribution = beta_distribution(available_thetas, 31, 21)\n",
        "\n",
        "beta_10 = beta_distribution(available_thetas, 8 + 31, 4 + 21)\n",
        "beta_100 = beta_distribution(available_thetas, 89 + 31, 13 + 21)\n",
        "beta_1000 = beta_distribution(available_thetas, 806 + 31, 196 + 21)\n",
        "\n",
        "plt.plot(prior_distribution, label=\"front of the coin appeared 3/10\")\n",
        "plt.plot(beta_10, label=\"front of the coin appeared 7/10\")\n",
        "plt.plot(beta_100, label=\"front of the coin appeared 88/100\")\n",
        "plt.plot(beta_1000, label=\"front of the coin appeared 805/1000\")\n",
        "\n",
        "plt.xlabel(\"value of the parameter 'theta' * 100\")\n",
        "plt.ylabel(\"Probability\")\n",
        "plt.legend()\n",
        "plt.show()"
      ],
      "metadata": {
        "colab": {
          "base_uri": "https://localhost:8080/",
          "height": 279
        },
        "id": "H1POcICxnKl6",
        "outputId": "9707a25f-a670-403b-f72c-1f00215c18d1"
      },
      "execution_count": null,
      "outputs": [
        {
          "output_type": "display_data",
          "data": {
            "text/plain": [
              "<Figure size 432x288 with 1 Axes>"
            ],
            "image/png": "[encoded data removed]"
          },
          "metadata": {
            "needs_background": "light"
          }
        }
      ]
    },
    {
      "cell_type": "markdown",
      "source": [
        "ベイズ推定の事前分布をBeta分布とする場合は、推定結果を出す際に、事前分布であるBeta分布のαとβをベイズ推定に使うαとβにそれぞれ足してあげればよい。\n",
        "\n",
        "これは、たとえば「10回のコイントス試行の前に、既に10回分コイントス試行が実施済みだった」と考えるとわかりやすい。\n",
        "（この計算方法で良さそうだ、と直感的に感じられませんか？）\n",
        "\n",
        "でも、こうすると、事前分布がBeta分布じゃなかった場合の実装方法がわからない、ということに気が付いた。どうしたものか...。（保留）"
      ],
      "metadata": {
        "id": "p-YFNedynw4V"
      }
    },
    {
      "cell_type": "markdown",
      "source": [
        "## p.69 ディリクレ分布\n",
        "\n",
        "p.71の 式(4・70)を実装する\n",
        "\n",
        "\n",
        "### 参考\n",
        "\n",
        "- ディリクレ(Dirichlet)分布を3Dで可視化する  \n",
        "https://cartman0.hatenablog.com/entry/2021/02/27/%E3%83%87%E3%82%A3%E3%83%AA%E3%82%AF%E3%83%AC%28Dirichlet%29%E5%88%86%E5%B8%83%E3%82%923D%E3%81%A7%E5%8F%AF%E8%A6%96%E5%8C%96%E3%81%99%E3%82%8B\n",
        "- 【Python】ディリクレ分布の作図  \n",
        "https://www.anarchive-beta.com/entry/2022/10/19/120500\n",
        "\n",
        "\n",
        "2つ目のURLに記載されているコードは理解に時間がかかりそうだったので、1つ目の「ディリクレ(Dirichlet)分布を3Dで可視化する」を真似して実装する"
      ],
      "metadata": {
        "id": "gVYSXjqLvbS9"
      }
    },
    {
      "cell_type": "code",
      "source": [
        "from scipy import special\n",
        "\n",
        "\n",
        "def dirichlet(thetas: np.ndarray, alphas: np.ndarray) -> np.ndarray:\n",
        "    \"\"\"\n",
        "    ディリクレ分布の確率密度関数を返す\n",
        "\n",
        "    p.71の 式(4・70)をと対応がわかりやすいような引数名、変数名にしたつもり\n",
        "\n",
        "    ・numeratorは分子\n",
        "    ・denominatorは分母のこと\n",
        "\n",
        "    あとはnp.prodが積演算であることがわかれば、コードと式の対応が分かるはず。\n",
        "    \"\"\"\n",
        "    sum_alpha = np.sum(alphas)\n",
        "    gamma_numerator = special.gamma(sum_alpha)\n",
        "    gamma_denominator = np.prod(special.gamma(alphas))\n",
        "\n",
        "    probability_density_function = (\n",
        "        gamma_numerator / gamma_denominator * np.prod(thetas ** (alphas - 1))\n",
        "    )\n",
        "    return probability_density_function\n"
      ],
      "metadata": {
        "id": "2Qi1vevIpOqP"
      },
      "execution_count": null,
      "outputs": []
    },
    {
      "cell_type": "code",
      "source": [
        "# 描画処理は数式を理解する際には本質的な問題ではないので、\n",
        "# 前記参考記事をほぼ丸々コピーした\n",
        "\n",
        "def show_3d_dirichlet_distribution(alphas: np.ndarray) -> None:\n",
        "    xdata = np.linspace(0, 1, 200)\n",
        "    ydata = np.linspace(0, 1, 200)\n",
        "    X, Y = np.meshgrid(xdata, ydata)\n",
        "    z = []\n",
        "    X[X + Y > 1] = 0\n",
        "    Y[X + Y > 1] = 0\n",
        "    for _x, _y, _z in zip(X.flatten(), Y.flatten(), (1-X-Y).flatten()):\n",
        "        z.append(dirichlet(np.array([_x, _y, _z]), alphas))\n",
        "\n",
        "    Z = np.array(z).reshape(X.shape)\n",
        "    ax3d = plt.axes(projection='3d')\n",
        "    ax3d.plot_surface(X, Y, Z,cmap='plasma')\n",
        "    # ax3d.set_zlim(zlim)\n",
        "    ax3d.set_xlabel(\"$\\\\theta_1$\")\n",
        "    ax3d.set_ylabel(\"$\\\\theta_2$\")\n",
        "    ax3d.set_zlabel(\"pdf$(\\\\theta_1,\\\\theta_2,1-\\\\theta_1-\\\\theta_2)$\")\n",
        "    ax3d.set_title(\"Dir($\\\\vec{\\\\alpha} = $\" + \"%s)\" % alphas)\n",
        "    plt.show()\n",
        "\n",
        "\n",
        "alphas = np.array([1., 1., 1.])\n",
        "show_3d_dirichlet_distribution(alphas)"
      ],
      "metadata": {
        "id": "E8ltqZdtzLzC"
      },
      "execution_count": null,
      "outputs": []
    },
    {
      "cell_type": "code",
      "source": [
        "alphas = np.array([4., 4., 4.])\n",
        "show_3d_dirichlet_distribution(alphas)"
      ],
      "metadata": {
        "id": "UcJDzQ5903IZ"
      },
      "execution_count": null,
      "outputs": []
    },
    {
      "cell_type": "code",
      "source": [
        "alphas = np.array([8., 8., 8.])\n",
        "show_3d_dirichlet_distribution(alphas)"
      ],
      "metadata": {
        "id": "LPlXDqzK0GAu"
      },
      "execution_count": null,
      "outputs": []
    },
    {
      "cell_type": "code",
      "source": [
        "alphas = np.array([2., 4., 6.])\n",
        "show_3d_dirichlet_distribution(alphas)"
      ],
      "metadata": {
        "id": "xloQurIn05sw"
      },
      "execution_count": null,
      "outputs": []
    },
    {
      "cell_type": "markdown",
      "source": [
        "# 第5章 教師付き学習と教師なし学習"
      ],
      "metadata": {
        "id": "0Rmmjg3suuGh"
      }
    },
    {
      "cell_type": "markdown",
      "source": [
        "## 前提条件"
      ],
      "metadata": {
        "id": "Fb64n1H-FUkI"
      }
    },
    {
      "cell_type": "code",
      "source": [
        "pis = [0.1, 0.4, 0.5]\n",
        "thetas = np.array([0.8, 0.6, 0.3])\n",
        "\n",
        "num_of_rounds = 10_000\n"
      ],
      "metadata": {
        "id": "-KkRwTg_u3uR"
      },
      "execution_count": 2,
      "outputs": []
    },
    {
      "cell_type": "markdown",
      "source": [
        "## 実験用データ生成\n",
        "\n",
        "p.95に記載の実験条件と実験結果に従って生成する"
      ],
      "metadata": {
        "id": "4icL27uGA9p1"
      }
    },
    {
      "cell_type": "code",
      "source": [
        "def select_dices(pis: list, num: int = 10) -> np.ndarray:\n",
        "    \"\"\"\n",
        "    pisで指定した確率に基づいて、num回diceを取り出す\n",
        "\n",
        "    Parameters\n",
        "    ------\n",
        "    pis: list\n",
        "        それぞれのdiceの含有率\n",
        "        Example: [0.2, 0.3, 0.5]\n",
        "\n",
        "    num: int\n",
        "        diceを取り出す回数\n",
        "        Example: 100\n",
        "\n",
        "    Return\n",
        "    ------\n",
        "    count_of_selected_dices: np.ndarray\n",
        "        それぞれのdiceが選択された回数\n",
        "        Example: np.array([12, 36, 52])\n",
        "    \"\"\"\n",
        "    available_dices = [0, 1, 2]\n",
        "    selected_dices = np.random.choice(a=available_dices, size=num, p=pis)\n",
        "    count_of_selected_dices = np.bincount(selected_dices)\n",
        "    return count_of_selected_dices\n",
        "\n",
        "\n",
        "def count_face_of_dices(thetas: list, num_of_selected_dices: np.ndarray) -> np.ndarray:\n",
        "    \"\"\"\n",
        "    thetasで指定した確率に基づいて、diceを振った結果を返す\n",
        "\n",
        "    Parameters\n",
        "    ------\n",
        "    thetas: list\n",
        "        それぞれのdiceが奇数の目を出す確率\n",
        "        Example: [0.2, 0.3, 0.5]\n",
        "\n",
        "    num_of_selected_dices: np.ndarray\n",
        "        それぞれのdiceが選択された個数\n",
        "        Example: np.array([12, 36, 52])\n",
        "\n",
        "    Return\n",
        "    ------\n",
        "    count_of_selected_dices: np.ndarray\n",
        "        それぞれのdiceを振った結果を連結したもの\n",
        "        1次元配列になっている\n",
        "        Example: np.array([0, 1, 0, 0 ..., 1])\n",
        "    \"\"\"\n",
        "    num_face_of_dices = np.array([])\n",
        "    for dice_no, count in enumerate(num_of_selected_dices):\n",
        "        # サイコロの奇数の目が出る確率\n",
        "        theta = thetas[dice_no]\n",
        "\n",
        "        # 各サイコロ毎に、まとめて振る\n",
        "        # たとえば、①のサイコロが88回選ばれているなら、①のサイコロだけを一気に88回振る\n",
        "        face_of_dices = np.random.choice([0, 1], size=count , p=[theta, 1 - theta])\n",
        "        num_face_of_dices = np.append(num_face_of_dices, face_of_dices)\n",
        "    return num_face_of_dices\n",
        "\n",
        "\n",
        "num_of_selected_dices = select_dices(pis, num_of_rounds)\n",
        "# 出たサイコロの目の総リスト\n",
        "x = count_face_of_dices(thetas, num_of_selected_dices)\n",
        "\n",
        "# 選ばれたサイコロの総リスト\n",
        "s = (\n",
        "    [0] * num_of_selected_dices[0]\n",
        "     + [1] * num_of_selected_dices[1]\n",
        "     + [2] * num_of_selected_dices[2]\n",
        ")\n",
        " \n",
        "\n",
        "# x, s ともに、サイコロの種類ごとにソートされてしまっているので、シャッフルする\n",
        "index_of_dices_series = np.arange(0, 10000)\n",
        "np.random.shuffle(index_of_dices_series)\n",
        "\n",
        "shuffled_x = pd.Series(x)[index_of_dices_series].astype(int)\n",
        "shuffled_s = pd.Series(s)[index_of_dices_series].astype(int)\n",
        "\n",
        "\n",
        "print(\"それぞれのサイコロが取り出された回数: \")\n",
        "print(\"1...\", num_of_selected_dices[0])\n",
        "print(\"2...\", num_of_selected_dices[1])\n",
        "print(\"3...\", num_of_selected_dices[2])\n",
        "print(\"サイコロ1を振った結果\", np.bincount(pd.Series(x)[0:num_of_selected_dices[0]]))\n",
        "print(\"サイコロ2を振った結果\", np.bincount(pd.Series(x)[num_of_selected_dices[0] + 1:-num_of_selected_dices[2] + 1]))\n",
        "print(\"サイコロ3を振った結果\", np.bincount(pd.Series(x)[-num_of_selected_dices[2]:]))"
      ],
      "metadata": {
        "colab": {
          "base_uri": "https://localhost:8080/"
        },
        "id": "IJbTJAieyWX1",
        "outputId": "1ba93006-ad55-4fb5-bb6f-cd9454437c4a"
      },
      "execution_count": 3,
      "outputs": [
        {
          "output_type": "stream",
          "name": "stdout",
          "text": [
            "それぞれのサイコロが取り出された回数: \n",
            "1... 989\n",
            "2... 4032\n",
            "3... 4979\n",
            "サイコロ1を振った結果 [790 199]\n",
            "サイコロ2を振った結果 [2492 1540]\n",
            "サイコロ3を振った結果 [1494 3485]\n"
          ]
        }
      ]
    },
    {
      "cell_type": "markdown",
      "source": [
        "## p.83 教師付き学習\n",
        "\n",
        "\n",
        "ほぼ、[Qiita / 続・わかりやすい　パターン認識　教師なし学習入門　アルゴリズムのサンプルコードを書いてみた](https://qiita.com/akiraichi5430/items/60ce2829a1b72dce5bca#5%E7%AB%A0%E6%95%99%E5%B8%AB%E4%BB%98%E3%81%8D%E5%AD%A6%E7%BF%92%E6%95%99%E5%B8%AB%E3%81%AA%E3%81%97%E5%AD%A6%E7%BF%92)に載っていた通りにコピーさせていただいた"
      ],
      "metadata": {
        "id": "FXevtinVEizL"
      }
    },
    {
      "cell_type": "code",
      "source": [
        "class SupervisedLearning(object):\n",
        "    def __init__(self):\n",
        "        self.pi = None\n",
        "        self.theta = None\n",
        "        self.n = None\n",
        "\n",
        "    def fit(self, x, s):\n",
        "        self.n = self.__count(x, s)\n",
        "        self.pi = self.n.sum(axis=1) / self.n.sum()\n",
        "        self.theta = self.n / np.tile(self.n.sum(axis=1), (self.n.shape[1], 1)).T\n",
        "\n",
        "    @staticmethod\n",
        "    def __count(x, s):\n",
        "        n = np.zeros((max(s) + 1, max(x) + 1))\n",
        "        for x_, s_ in zip(x, s):\n",
        "            n[s_][x_] += 1\n",
        "        return n\n",
        "\n",
        "\n",
        "supervised = SupervisedLearning()\n",
        "supervised.fit(shuffled_x, shuffled_s)\n",
        "print(f\"pi: {supervised.pi}\")\n",
        "print(f\"theta: {supervised.theta}\")"
      ],
      "metadata": {
        "id": "BIPaRa4I0zjK"
      },
      "execution_count": null,
      "outputs": []
    },
    {
      "cell_type": "markdown",
      "source": [
        "## p.86 教師なし学習"
      ],
      "metadata": {
        "id": "cVjvkIrFE7Qt"
      }
    },
    {
      "cell_type": "markdown",
      "source": [
        "### step 1\n",
        "\n",
        "- $\\pi_i$に対して仮の初期値を与える  \n",
        "値はp.95に従う\n",
        "- $\\theta_{ik}は既知とする$"
      ],
      "metadata": {
        "id": "m3O4xrcPGXrM"
      }
    },
    {
      "cell_type": "code",
      "source": [
        "initial_pi_estimations = np.array([0.3, 0.5, 0.2])\n",
        "print(\"π(初期値): \", initial_pi_estimations)\n",
        "print(\"θ(既知)\", thetas)"
      ],
      "metadata": {
        "colab": {
          "base_uri": "https://localhost:8080/"
        },
        "id": "eqCdJER6FDMf",
        "outputId": "27e63bdc-baf4-4576-eed4-50b8a2f06f49"
      },
      "execution_count": 4,
      "outputs": [
        {
          "output_type": "stream",
          "name": "stdout",
          "text": [
            "π(初期値):  [0.3 0.5 0.2]\n",
            "θ(既知) [0.8 0.6 0.3]\n"
          ]
        }
      ]
    },
    {
      "cell_type": "markdown",
      "source": [
        "### step 2\n",
        "\n",
        "$$\n",
        "P(\\omega_i|v_k) = \\frac{\\pi_i * \\theta_{ik}}{\\sum^c_{j=1} \\pi_j * \\theta_{jk}}\n",
        "$$\n",
        "\n",
        "を計算する\n"
      ],
      "metadata": {
        "id": "t4qeDRnmGdHt"
      }
    },
    {
      "cell_type": "code",
      "source": [
        "# TODO: check\n",
        "def step2(initial_pis, thetas) -> np.ndarray:\n",
        "    pi_x_theta = initial_pi_estimations * np.array([thetas, 1 - thetas])\n",
        "    sum_pi_x_theta = np.sum(pi_x_theta, axis=1)\n",
        "    p_omega_v = (pi_x_theta) / np.tile(sum_pi_x_theta, (3, 1)).T\n",
        "    return p_omega_v\n",
        "\n",
        "\n",
        "p = step2(initial_pi_estimations, thetas)\n",
        "p"
      ],
      "metadata": {
        "colab": {
          "base_uri": "https://localhost:8080/"
        },
        "id": "ACGwGgrPGe12",
        "outputId": "cab9798e-36c2-4d78-bb9e-f165895bfd56"
      },
      "execution_count": 5,
      "outputs": [
        {
          "output_type": "execute_result",
          "data": {
            "text/plain": [
              "array([[0.4 , 0.5 , 0.1 ],\n",
              "       [0.15, 0.5 , 0.35]])"
            ]
          },
          "metadata": {},
          "execution_count": 5
        }
      ]
    },
    {
      "cell_type": "code",
      "source": [
        "pi_x_theta = initial_pi_estimations * np.array([thetas, 1 - thetas])\n",
        "pi_x_theta"
      ],
      "metadata": {
        "colab": {
          "base_uri": "https://localhost:8080/"
        },
        "id": "n0JVShnFg9ly",
        "outputId": "b9eacb90-1623-4e6c-ef20-4083154641a5"
      },
      "execution_count": 6,
      "outputs": [
        {
          "output_type": "execute_result",
          "data": {
            "text/plain": [
              "array([[0.24, 0.3 , 0.06],\n",
              "       [0.06, 0.2 , 0.14]])"
            ]
          },
          "metadata": {},
          "execution_count": 6
        }
      ]
    },
    {
      "cell_type": "markdown",
      "source": [
        "### step 3-1\n",
        "\n",
        "$$\n",
        "\\hat\\pi_i = \\frac{1}{n} \\sum^m_{k=1} r_k * P(\\omega_i|v_k)\n",
        "$$\n",
        "\n",
        "を計算する\n"
      ],
      "metadata": {
        "id": "KazqawasItr0"
      }
    },
    {
      "cell_type": "code",
      "source": [
        "print(\"サイコロ1を振った結果\", np.bincount(pd.Series(x)[0:num_of_selected_dices[0]]))\n",
        "print(\"サイコロ2を振った結果\", np.bincount(pd.Series(x)[num_of_selected_dices[0] + 1:-num_of_selected_dices[2] + 1]))\n",
        "print(\"サイコロ3を振った結果\", np.bincount(pd.Series(x)[-num_of_selected_dices[2]:]))\n",
        "print(\"より、\\n\")\n",
        "\n",
        "r_k = np.array([\n",
        "    np.bincount(pd.Series(x)[0:num_of_selected_dices[0]]),\n",
        "    np.bincount(pd.Series(x)[num_of_selected_dices[0] + 1:-num_of_selected_dices[2] + 1]),\n",
        "    np.bincount(pd.Series(x)[-num_of_selected_dices[2]:])\n",
        "])\n",
        "print(\"r_k: \\n\", np.sum(r_k, axis=0))\n",
        "print(\"r_k_T: \\n\", np.sum(r_k, axis=0).reshape(-1, 1))\n",
        "\n",
        "# p_omega_v = np.array([p, 1 - p])\n",
        "print(\"p_omega_v: \\n\", p)\n",
        "\n",
        "\n",
        "def step3_1(n: int, r_k: np.ndarray, p_omega_v: np.ndarray) -> np.ndarray:\n",
        "    pi_i_hat = np.sum(r_k * p_omega_v, axis=0) / n\n",
        "    return pi_i_hat\n",
        "\n",
        "\n",
        "pi_i_hat = step3_1(10000, np.sum(r_k, axis=0).reshape(-1, 1), p)\n",
        "print(\"pi_i_hat:\", pi_i_hat)"
      ],
      "metadata": {
        "colab": {
          "base_uri": "https://localhost:8080/"
        },
        "id": "QpLApCbNItb5",
        "outputId": "ece1e670-0978-48a9-8a71-5cd4b4632ccd"
      },
      "execution_count": 51,
      "outputs": [
        {
          "output_type": "stream",
          "name": "stdout",
          "text": [
            "サイコロ1を振った結果 [790 199]\n",
            "サイコロ2を振った結果 [2492 1540]\n",
            "サイコロ3を振った結果 [1494 3485]\n",
            "より、\n",
            "\n",
            "r_k: \n",
            " [4776 5224]\n",
            "r_k_T: \n",
            " [[4776]\n",
            " [5224]]\n",
            "p_omega_v: \n",
            " [[0.4  0.5  0.1 ]\n",
            " [0.15 0.5  0.35]]\n",
            "pi_i_hat: [0.2694 0.5    0.2306]\n"
          ]
        }
      ]
    },
    {
      "cell_type": "markdown",
      "source": [
        "### step 3-2\n",
        "\n",
        "$$\n",
        "\\hat{P}(\\omega_i|v_k) = \\frac{\\hat\\pi_i * \\theta_{ik}}{\\sum^c_{j=1} \\hat\\pi_j * \\theta_{jk}}\n",
        "$$\n",
        "\n",
        "を計算する"
      ],
      "metadata": {
        "id": "AYTTFmiRRY8k"
      }
    },
    {
      "cell_type": "code",
      "source": [
        "def step3_2_P_hat(pi_hat, thetas) -> np.ndarray:\n",
        "    p_hat = (pi_hat * np.array(thetas)) / sum(pi_hat * np.array(thetas))\n",
        "    return p_hat\n",
        "\n",
        "\n",
        "def step3_2_theta_hat(r_k, P_hat) -> np.ndarray:\n",
        "    theta_hat = (r_k * P_hat) / np.tile(np.sum(r_k * P_hat, axis=0), (2, 1))\n",
        "    return theta_hat\n",
        "\n",
        "\n",
        "p_hat = step3_2_P_hat(pi_i_hat, thetas)\n",
        "P_hat = np.array([p_hat, 1 - p_hat])\n",
        "\n",
        "print(\"p_hat:\\n\", p_hat)\n",
        "print(\"P_hat:\\n\", P_hat)\n",
        "\n",
        "theta_hat = step3_2_theta_hat(np.transpose(r_k), P_hat)\n",
        "theta_hat"
      ],
      "metadata": {
        "colab": {
          "base_uri": "https://localhost:8080/"
        },
        "id": "rJUCUJvDRzp7",
        "outputId": "323c2dd6-c56c-41c0-a32c-96c60fb6bc4a"
      },
      "execution_count": 8,
      "outputs": [
        {
          "output_type": "stream",
          "name": "stdout",
          "text": [
            "p_hat:\n",
            " [0.36859928 0.51308363 0.11831709]\n",
            "P_hat:\n",
            " [[0.36859928 0.51308363 0.11831709]\n",
            " [0.63140072 0.48691637 0.88168291]]\n"
          ]
        },
        {
          "output_type": "execute_result",
          "data": {
            "text/plain": [
              "array([[0.69856999, 0.63033394, 0.05439898],\n",
              "       [0.30143001, 0.36966606, 0.94560102]])"
            ]
          },
          "metadata": {},
          "execution_count": 8
        }
      ]
    },
    {
      "cell_type": "markdown",
      "source": [
        "### step 4\n",
        "\n",
        "$$\n",
        "\\pi_i = \\hat\\pi_i \\\\\n",
        "\\theta_{ik} = \\hat\\theta_{ik}\n",
        "$$"
      ],
      "metadata": {
        "id": "8pxLZr6rRJut"
      }
    },
    {
      "cell_type": "code",
      "source": [
        "pi = pi_i_hat\n",
        "theta = theta_hat"
      ],
      "metadata": {
        "id": "kqkMyzRgYGW8"
      },
      "execution_count": 9,
      "outputs": []
    },
    {
      "cell_type": "markdown",
      "source": [
        "### まとめ\n",
        "\n",
        "ここまでの step 1 ~ step 4 をまとめて繰り返し実行できるようにする"
      ],
      "metadata": {
        "id": "VlF-OSqhWi5Z"
      }
    },
    {
      "cell_type": "code",
      "source": [
        "r_k = np.array([\n",
        "    np.bincount(pd.Series(x)[0:num_of_selected_dices[0]]),\n",
        "    np.bincount(pd.Series(x)[num_of_selected_dices[0] + 1:-num_of_selected_dices[2] + 1]),\n",
        "    np.bincount(pd.Series(x)[-num_of_selected_dices[2]:])\n",
        "])\n",
        "r_k_T = np.sum(r_k, axis=0).reshape(-1, 1)\n",
        "print(\"r_k_T:\", r_k_T)\n",
        "\n",
        "# step1\n",
        "initial_pi_estimations = np.array([0.3, 0.5, 0.2])\n",
        "thetas\n",
        "\n",
        "\n",
        "class UnsupervisedLearning:\n",
        "    def __init__(\n",
        "        self,\n",
        "        n: int,\n",
        "        initial_pi_hat: np.ndarray,\n",
        "        initial_theta_hat: np.ndarray,\n",
        "        r_k_T: np.ndarray\n",
        "    ):\n",
        "        self.n = n\n",
        "        self.pi_hat = initial_pi_hat\n",
        "        self.theta_hat = initial_theta_hat\n",
        "        self.r_k_T = r_k_T\n",
        "\n",
        "    def fit(self):\n",
        "        epsilon = 1e-8\n",
        "        variation = np.array([1, 1, 1])\n",
        "        num_round = 0\n",
        "        pi_hat_hist = np.array([self.pi_hat])\n",
        "\n",
        "        while((np.abs(variation) > epsilon).any()):\n",
        "            num_round += 1\n",
        "\n",
        "            # step2\n",
        "            p = self.step2()\n",
        "\n",
        "            # step3\n",
        "            pi_i_hat = self.step3_1(p)\n",
        "            P_hat = self.step3_2_P_hat(pi_i_hat)\n",
        "            theta_hat = self.step3_2_theta_hat(P_hat)\n",
        "\n",
        "            variation = pi_i_hat - self.pi_hat\n",
        "\n",
        "            # step4\n",
        "            self.pi_hat = pi_i_hat\n",
        "            # 今回は更新しない theta は既知として扱うため\n",
        "            # p.95の実験条件の5項目目を参照\n",
        "            #   注) \"step3は省いた\"と記載されているが、おそらく\"step3-2省いた\"が正しいと思われる\n",
        "            # theta = theta_hat\n",
        "\n",
        "            pi_hat_hist = np.concatenate([pi_hat_hist, [self.pi_hat]], axis=0)\n",
        "            print(num_round, \"pi_hat:\", self.pi_hat, \"max variation:\", max(variation))\n",
        "\n",
        "        self.pi_hat_hist = pi_hat_hist\n",
        "\n",
        "    def step2(self) -> np.ndarray:\n",
        "        pi_x_theta = self.pi_hat * np.array([self.theta_hat, 1 - self.theta_hat])\n",
        "        sum_pi_x_theta = np.sum(pi_x_theta, axis=1)\n",
        "        p_omega_v = (pi_x_theta) / np.tile(sum_pi_x_theta, (3, 1)).T\n",
        "        return p_omega_v\n",
        "\n",
        "    def step3_1(self, p_omega_v: np.ndarray) -> np.ndarray:\n",
        "        pi_i_hat = np.sum(self.r_k_T * p_omega_v, axis=0) / self.n\n",
        "        return pi_i_hat\n",
        "\n",
        "    def step3_2_P_hat(self, pi_hat: np.ndarray) -> np.ndarray:\n",
        "        p_hat = (pi_hat * np.array(self.theta_hat)) / sum(pi_hat * np.array(self.theta_hat))\n",
        "        return p_hat\n",
        "\n",
        "    def step3_2_theta_hat(self, P_hat: np.ndarray) -> np.ndarray:\n",
        "        theta_hat = (self.r_k_T * P_hat) / np.tile(np.sum(self.r_k_T * P_hat, axis=0), (2, 1))\n",
        "        return theta_hat\n",
        "\n",
        "    # def calc_log_P(self, r_k, pi_hat, thetas):\n",
        "    #     _r_k = np.sum(r_k, axis=0)\n",
        "    #     pi_x_theta = pi_hat * np.array([thetas, 1 - thetas])\n",
        "    #     _sum_pi_i_theta = np.sum(pi_x_theta, axis=1)\n",
        "    #     log_P = sum(_r_k * np.log(sum_pi_x_theta))\n",
        "    #     return log_P\n",
        "\n",
        "\n",
        "model = UnsupervisedLearning(10000, initial_pi_estimations, thetas, r_k_T)\n",
        "model.fit()"
      ],
      "metadata": {
        "colab": {
          "base_uri": "https://localhost:8080/"
        },
        "id": "al2xea1-Ni85",
        "outputId": "ec83d441-55dc-44fb-85ec-407159a0aa0a"
      },
      "execution_count": 52,
      "outputs": [
        {
          "output_type": "stream",
          "name": "stdout",
          "text": [
            "r_k_T: [[4776]\n",
            " [5224]]\n",
            "1 pi_hat: [0.2694 0.5    0.2306] max variation: 0.030599999999999933\n",
            "2 pi_hat: [0.24381791 0.49662592 0.25955618] max variation: 0.028956176554635366\n",
            "3 pi_hat: [0.22254416 0.49112141 0.28633442] max variation: 0.02677824826923919\n",
            "4 pi_hat: [0.20489447 0.4844426  0.31066293] max variation: 0.02432850842242057\n",
            "5 pi_hat: [0.19025358 0.47727561 0.3324708 ] max variation: 0.02180786849103883\n",
            "6 pi_hat: [0.17809188 0.47008342 0.35182469] max variation: 0.019353892404589956\n",
            "7 pi_hat: [0.16796568 0.46315897 0.36887534] max variation: 0.017050649268785967\n",
            "8 pi_hat: [0.1595095  0.45667296 0.38381754] max variation: 0.014942194601912151\n",
            "9 pi_hat: [0.15242515 0.45071211 0.39686274] max variation: 0.013045197485051063\n",
            "10 pi_hat: [0.14647054 0.44530775 0.40822172] max variation: 0.011358980072221858\n",
            "11 pi_hat: [0.14144934 0.44045619 0.41809448] max variation: 0.009872760612583242\n",
            "12 pi_hat: [0.13720223 0.43613276 0.42666501] max variation: 0.008570534216224224\n",
            "13 pi_hat: [0.13359957 0.43230124 0.43409919] max variation: 0.007434183120287874\n",
            "14 pi_hat: [0.13053553 0.42891993 0.44054455] max variation: 0.006445353117851882\n",
            "15 pi_hat: [0.12792334 0.4259456  0.44613106] max variation: 0.005586512844491132\n",
            "16 pi_hat: [0.12569156 0.42333589 0.45097255] max variation: 0.00484149349285945\n",
            "17 pi_hat: [0.12378111 0.42105063 0.45516826] max variation: 0.00419571051193196\n",
            "18 pi_hat: [0.12214291 0.41905263 0.45880446] max variation: 0.0036361987926477046\n",
            "19 pi_hat: [0.12073604 0.41730796 0.46195601] max variation: 0.0031515446115820134\n",
            "20 pi_hat: [0.11952618 0.41578604 0.46468777] max variation: 0.00273176563970029\n",
            "21 pi_hat: [0.11848453 0.41445952 0.46705594] max variation: 0.002368169712366308\n",
            "22 pi_hat: [0.11758677 0.41330408 0.46910915] max variation: 0.002053210056229049\n",
            "23 pi_hat: [0.1168123 0.4122982 0.4708895] max variation: 0.0017803466312716343\n",
            "24 pi_hat: [0.11614366 0.41142292 0.47243342] max variation: 0.0015439183813084623\n",
            "25 pi_hat: [0.11556599 0.41066157 0.47377245] max variation: 0.0013390283159803174\n",
            "26 pi_hat: [0.1150666  0.40999952 0.47493389] max variation: 0.001161441712765554\n",
            "27 pi_hat: [0.11463465 0.40942396 0.47594138] max variation: 0.0010074968466096679\n",
            "28 pi_hat: [0.11426087 0.40892372 0.47681541] max variation: 0.0008740272249779246\n",
            "29 pi_hat: [0.11393728 0.40848901 0.47757371] max variation: 0.0007582941398147081\n",
            "30 pi_hat: [0.11365706 0.40811131 0.47823163] max variation: 0.0006579283300151562\n",
            "31 pi_hat: [0.1134143  0.40778318 0.47880251] max variation: 0.0005708796090019841\n",
            "32 pi_hat: [0.11320396 0.40749816 0.47929789] max variation: 0.0004953734105920815\n",
            "33 pi_hat: [0.11302165 0.40725059 0.47972776] max variation: 0.000429873318610996\n",
            "34 pi_hat: [0.11286361 0.40703559 0.48010081] max variation: 0.00037304875837035345\n",
            "35 pi_hat: [0.11272658 0.40684887 0.48042456] max variation: 0.0003237471342157905\n",
            "36 pi_hat: [0.11260775 0.40668672 0.48070553] max variation: 0.0002809697936830835\n",
            "37 pi_hat: [0.11250469 0.40654593 0.48094938] max variation: 0.00024385128430076675\n",
            "38 pi_hat: [0.1124153  0.40642368 0.48116102] max variation: 0.0002116414439035097\n",
            "39 pi_hat: [0.11233776 0.40631753 0.48134471] max variation: 0.00018368993016620871\n",
            "40 pi_hat: [0.11227049 0.40622537 0.48150414] max variation: 0.00015943285095065818\n",
            "41 pi_hat: [0.11221212 0.40614536 0.48164252] max variation: 0.0001383812050249622\n",
            "42 pi_hat: [0.11216148 0.40607589 0.48176263] max variation: 0.00012011088380758927\n",
            "43 pi_hat: [0.11211753 0.40601558 0.48186689] max variation: 0.00010425401994024197\n",
            "44 pi_hat: [0.1120794  0.40596322 0.48195738] max variation: 9.049149858075811e-05\n",
            "45 pi_hat: [0.11204631 0.40591777 0.48203593] max variation: 7.854647303229267e-05\n",
            "46 pi_hat: [0.11201759 0.40587831 0.4821041 ] max variation: 6.817874836229088e-05\n",
            "47 pi_hat: [0.11199266 0.40584405 0.48216328] max variation: 5.917991553561208e-05\n",
            "48 pi_hat: [0.11197103 0.40581432 0.48221465] max variation: 5.1369134781265036e-05\n",
            "49 pi_hat: [0.11195226 0.4057885  0.48225924] max variation: 4.458948079966163e-05\n",
            "50 pi_hat: [0.11193596 0.40576609 0.48229795] max variation: 3.870477436113129e-05\n",
            "51 pi_hat: [0.11192182 0.40574664 0.48233154] max variation: 3.359683511622302e-05\n",
            "52 pi_hat: [0.11190955 0.40572975 0.48236071] max variation: 2.916309927764038e-05\n",
            "53 pi_hat: [0.11189889 0.40571509 0.48238602] max variation: 2.5314553448396726e-05\n",
            "54 pi_hat: [0.11188964 0.40570236 0.482408  ] max variation: 2.197394244557449e-05\n",
            "55 pi_hat: [0.11188162 0.40569131 0.48242707] max variation: 1.9074214631209507e-05\n",
            "56 pi_hat: [0.11187465 0.40568172 0.48244363] max variation: 1.655717315990346e-05\n",
            "57 pi_hat: [0.1118686 0.4056734 0.482458 ] max variation: 1.437230578282822e-05\n",
            "58 pi_hat: [0.11186335 0.40566617 0.48247048] max variation: 1.2475769503361711e-05\n",
            "59 pi_hat: [0.11185879 0.4056599  0.4824813 ] max variation: 1.0829509541177007e-05\n",
            "60 pi_hat: [0.11185484 0.40565446 0.48249071] max variation: 9.400494803968318e-06\n",
            "61 pi_hat: [0.1118514  0.40564973 0.48249887] max variation: 8.160054427996943e-06\n",
            "62 pi_hat: [0.11184842 0.40564563 0.48250595] max variation: 7.083302005050918e-06\n",
            "63 pi_hat: [0.11184584 0.40564207 0.4825121 ] max variation: 6.148635894875909e-06\n",
            "64 pi_hat: [0.11184359 0.40563897 0.48251743] max variation: 5.3373055483030285e-06\n",
            "65 pi_hat: [0.11184164 0.40563629 0.48252207] max variation: 4.633035119050444e-06\n",
            "66 pi_hat: [0.11183995 0.40563396 0.48252609] max variation: 4.021696785705409e-06\n",
            "67 pi_hat: [0.11183848 0.40563194 0.48252958] max variation: 3.491027212421116e-06\n",
            "68 pi_hat: [0.11183721 0.40563018 0.48253261] max variation: 3.030381451551989e-06\n",
            "69 pi_hat: [0.1118361  0.40562866 0.48253524] max variation: 2.6305193358000523e-06\n",
            "70 pi_hat: [0.11183514 0.40562734 0.48253752] max variation: 2.2834200728572007e-06\n",
            "71 pi_hat: [0.11183431 0.40562619 0.48253951] max variation: 1.9821213151915984e-06\n",
            "72 pi_hat: [0.11183358 0.40562519 0.48254123] max variation: 1.720579471897743e-06\n",
            "73 pi_hat: [0.11183295 0.40562433 0.48254272] max variation: 1.4935484610179017e-06\n",
            "74 pi_hat: [0.11183241 0.40562357 0.48254402] max variation: 1.2964744622867563e-06\n",
            "75 pi_hat: [0.11183193 0.40562292 0.48254514] max variation: 1.1254045636510668e-06\n",
            "76 pi_hat: [0.11183152 0.40562236 0.48254612] max variation: 9.769074627574703e-07\n",
            "77 pi_hat: [0.11183117 0.40562187 0.48254697] max variation: 8.480046348458004e-07\n",
            "78 pi_hat: [0.11183086 0.40562144 0.4825477 ] max variation: 7.361105840431037e-07\n",
            "79 pi_hat: [0.11183059 0.40562107 0.48254834] max variation: 6.389809800722013e-07\n",
            "80 pi_hat: [0.11183035 0.40562075 0.4825489 ] max variation: 5.546676389855953e-07\n",
            "81 pi_hat: [0.11183015 0.40562047 0.48254938] max variation: 4.814794440921588e-07\n",
            "82 pi_hat: [0.11182998 0.40562023 0.4825498 ] max variation: 4.179484258126642e-07\n",
            "83 pi_hat: [0.11182982 0.40562002 0.48255016] max variation: 3.6280031517899047e-07\n",
            "84 pi_hat: [0.11182969 0.40561983 0.48255047] max variation: 3.14928985056806e-07\n",
            "85 pi_hat: [0.11182958 0.40561968 0.48255075] max variation: 2.7337426317108893e-07\n",
            "86 pi_hat: [0.11182948 0.40561954 0.48255099] max variation: 2.3730267256771853e-07\n",
            "87 pi_hat: [0.11182939 0.40561942 0.48255119] max variation: 2.059907144857931e-07\n",
            "88 pi_hat: [0.11182931 0.40561931 0.48255137] max variation: 1.7881035602185236e-07\n",
            "89 pi_hat: [0.11182925 0.40561923 0.48255153] max variation: 1.552164333729067e-07\n",
            "90 pi_hat: [0.11182919 0.40561915 0.48255166] max variation: 1.347357170833341e-07\n",
            "91 pi_hat: [0.11182914 0.40561908 0.48255178] max variation: 1.1695742085926497e-07\n",
            "92 pi_hat: [0.1118291  0.40561902 0.48255188] max variation: 1.0152496121573762e-07\n",
            "93 pi_hat: [0.11182906 0.40561897 0.48255197] max variation: 8.81288060861074e-08\n",
            "94 pi_hat: [0.11182903 0.40561893 0.48255204] max variation: 7.650026589978154e-08\n",
            "95 pi_hat: [0.111829   0.40561889 0.48255211] max variation: 6.640610483721332e-08\n",
            "96 pi_hat: [0.11182898 0.40561885 0.48255217] max variation: 5.764386201700944e-08\n",
            "97 pi_hat: [0.11182896 0.40561882 0.48255222] max variation: 5.003779196544045e-08\n",
            "98 pi_hat: [0.11182894 0.4056188  0.48255226] max variation: 4.3435338215047636e-08\n",
            "99 pi_hat: [0.11182892 0.40561878 0.4825523 ] max variation: 3.770407402958753e-08\n",
            "100 pi_hat: [0.11182891 0.40561876 0.48255233] max variation: 3.272904630646778e-08\n",
            "101 pi_hat: [0.1118289  0.40561874 0.48255236] max variation: 2.8410470476192273e-08\n",
            "102 pi_hat: [0.11182889 0.40561873 0.48255238] max variation: 2.4661727771047026e-08\n",
            "103 pi_hat: [0.11182888 0.40561872 0.48255241] max variation: 2.1407629446912324e-08\n",
            "104 pi_hat: [0.11182887 0.4056187  0.48255242] max variation: 1.858290710199384e-08\n",
            "105 pi_hat: [0.11182886 0.40561869 0.48255244] max variation: 1.6130905000633078e-08\n",
            "106 pi_hat: [0.11182886 0.40561869 0.48255245] max variation: 1.4002443093907857e-08\n",
            "107 pi_hat: [0.11182885 0.40561868 0.48255247] max variation: 1.2154830031363417e-08\n",
            "108 pi_hat: [0.11182885 0.40561867 0.48255248] max variation: 1.0551008400305761e-08\n",
            "109 pi_hat: [0.11182885 0.40561867 0.48255249] max variation: 9.158810210241342e-09\n"
          ]
        }
      ]
    },
    {
      "cell_type": "code",
      "source": [
        "result = pd.DataFrame(model.pi_hat_hist) \\\n",
        "           .rename(columns={0: \"pi1\", 1: \"pi2\", 2: \"pi3\"})\n",
        "\n",
        "result.plot()\n",
        "plt.xlabel(\"cycle count\")\n",
        "plt.ylabel(\"Estimation of probability\")"
      ],
      "metadata": {
        "id": "Yi0epDvOmVaE",
        "colab": {
          "base_uri": "https://localhost:8080/",
          "height": 296
        },
        "outputId": "2c031166-1baa-4713-ee90-f8bf10799977"
      },
      "execution_count": 53,
      "outputs": [
        {
          "output_type": "execute_result",
          "data": {
            "text/plain": [
              "Text(0, 0.5, 'Estimation of probability')"
            ]
          },
          "metadata": {},
          "execution_count": 53
        },
        {
          "output_type": "display_data",
          "data": {
            "text/plain": [
              "<Figure size 432x288 with 1 Axes>"
            ],
            "image/png": "[encoded data removed]"
          },
          "metadata": {
            "needs_background": "light"
          }
        }
      ]
    },
    {
      "cell_type": "markdown",
      "source": [
        "### おまけに\n",
        "\n",
        "p.96の $\\log_{}P(\\textbf{x})$ も計算してグラフを出したいので、それも付け加える。\n",
        "\n",
        "\n",
        "$\\log_{}P(\\textbf{x})$ は、p.87の(5.51)式と(5.53)式から、以下のように導出できる。\n",
        "\n",
        "\n",
        "$$\n",
        "\\log_{}P(\\textbf{x}) = \\sum^m_{k=1} r_k * \\log_{}P(v_k)\\\\\n",
        "= \\sum^m_{k=1} r_k * \\log \\left(\\sum^c_{i=1} \\pi_i * \\theta_{ik} \\right)\n",
        "$$\n"
      ],
      "metadata": {
        "id": "g2fwhouFW8aS"
      }
    },
    {
      "cell_type": "code",
      "source": [
        "# r_k\n",
        "np.sum(r_k, axis=0)"
      ],
      "metadata": {
        "colab": {
          "base_uri": "https://localhost:8080/"
        },
        "id": "ZwOs_7R6W9RL",
        "outputId": "deca45af-ab4a-4f92-ba64-5f6a4f95ec70"
      },
      "execution_count": 55,
      "outputs": [
        {
          "output_type": "execute_result",
          "data": {
            "text/plain": [
              "array([4776, 5224])"
            ]
          },
          "metadata": {},
          "execution_count": 55
        }
      ]
    },
    {
      "cell_type": "code",
      "source": [
        "# sum(pi_i * theta_ik)\n",
        "pi_x_theta = initial_pi_estimations * np.array([thetas, 1 - thetas])\n",
        "sum_pi_x_theta = np.sum(pi_x_theta, axis=1)\n",
        "sum_pi_x_theta"
      ],
      "metadata": {
        "colab": {
          "base_uri": "https://localhost:8080/"
        },
        "id": "cF_z7z4DXnEM",
        "outputId": "564e0b03-c2f6-408a-a17e-925ab6f175e6"
      },
      "execution_count": 37,
      "outputs": [
        {
          "output_type": "execute_result",
          "data": {
            "text/plain": [
              "array([0.6, 0.4])"
            ]
          },
          "metadata": {},
          "execution_count": 37
        }
      ]
    },
    {
      "cell_type": "code",
      "source": [
        "# log_P(x)\n",
        "def calc_log_P(r_k, pi_hat, thetas):\n",
        "    _r_k = np.sum(r_k, axis=0)\n",
        "    pi_x_theta = pi_hat * np.array([thetas, 1 - thetas])\n",
        "    _sum_pi_i_theta = np.sum(pi_x_theta, axis=1)\n",
        "    log_P = sum(_r_k * np.log(sum_pi_x_theta))\n",
        "    return log_P\n",
        "\n",
        "\n",
        "calc_log_P(r_k, initial_pi_estimations, thetas)"
      ],
      "metadata": {
        "colab": {
          "base_uri": "https://localhost:8080/"
        },
        "id": "iMavmR9sYQ_A",
        "outputId": "3a62ae31-dbf2-4254-bc9f-40286309d006"
      },
      "execution_count": 54,
      "outputs": [
        {
          "output_type": "execute_result",
          "data": {
            "text/plain": [
              "-7226.405962416957"
            ]
          },
          "metadata": {},
          "execution_count": 54
        }
      ]
    },
    {
      "cell_type": "code",
      "source": [
        "np.array([thetas, 1 - thetas])"
      ],
      "metadata": {
        "colab": {
          "base_uri": "https://localhost:8080/"
        },
        "id": "hICgEMIRdeZY",
        "outputId": "1e5973ef-1ad3-4879-8704-5689c8bbd39d"
      },
      "execution_count": 43,
      "outputs": [
        {
          "output_type": "execute_result",
          "data": {
            "text/plain": [
              "array([[0.8, 0.6, 0.3],\n",
              "       [0.2, 0.4, 0.7]])"
            ]
          },
          "metadata": {},
          "execution_count": 43
        }
      ]
    },
    {
      "cell_type": "code",
      "source": [
        "initial_pi_estimations * np.array([thetas, 1 - thetas])"
      ],
      "metadata": {
        "colab": {
          "base_uri": "https://localhost:8080/"
        },
        "id": "sdzkZxgjdjpX",
        "outputId": "15e45dae-bfe5-43a0-bd32-92a27e720a83"
      },
      "execution_count": 44,
      "outputs": [
        {
          "output_type": "execute_result",
          "data": {
            "text/plain": [
              "array([[0.24, 0.3 , 0.06],\n",
              "       [0.06, 0.2 , 0.14]])"
            ]
          },
          "metadata": {},
          "execution_count": 44
        }
      ]
    }
  ]
}